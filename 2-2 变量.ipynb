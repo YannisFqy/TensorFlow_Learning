{
 "cells": [
  {
   "cell_type": "code",
   "execution_count": 3,
   "metadata": {},
   "outputs": [],
   "source": [
    "import tensorflow as tf"
   ]
  },
  {
   "cell_type": "code",
   "execution_count": 4,
   "metadata": {},
   "outputs": [
    {
     "name": "stdout",
     "output_type": "stream",
     "text": [
      "[-2 -1]\n",
      "[-1  1]\n"
     ]
    }
   ],
   "source": [
    "x = tf.Variable([1,2])\n",
    "a = tf.constant([3,3])\n",
    "#增加一个减法op\n",
    "sub = tf.subtract(x,a)\n",
    "add = tf.add(x,sub)\n",
    "#shift+tab可以查看方法描述,两次tab可以查看详细描述\n",
    "#tensorflow中使用变量必须进行初始化\n",
    "init = tf.global_variables_initializer() #进行全局变量的初始化，初始化所有的变量\n",
    "with tf.Session() as sess:\n",
    "    sess.run(init) #先执行变量初始化的操作\n",
    "    print(sess.run(sub))\n",
    "    print(sess.run(add))"
   ]
  },
  {
   "cell_type": "code",
   "execution_count": 14,
   "metadata": {},
   "outputs": [
    {
     "name": "stdout",
     "output_type": "stream",
     "text": [
      "<tf.Variable 'counter_7:0' shape=() dtype=int32_ref>\n",
      "0\n",
      "1\n",
      "2\n",
      "3\n",
      "4\n",
      "5\n"
     ]
    }
   ],
   "source": [
    "#创建一个变量初始化为0\n",
    "state = tf.Variable(0,name = 'counter')\n",
    "#创建一个op，作用是是使state加1\n",
    "new_value = tf.add(state,1)\n",
    "#赋值op\n",
    "update = tf.assign(state,new_value) #变量赋值不能直接用等号，而要用赋值方法\n",
    "#new_value赋给state\n",
    "#变量初始化\n",
    "init = tf.global_variables_initializer()\n",
    "with tf.Session() as sess:\n",
    "    sess.run(init)\n",
    "    print(sess.run(state))\n",
    "    for _ in range(5):    #range(0,5)是[0,1,2,3,4]\n",
    "        sess.run(update) #run(update)会调用assign方法把new_value赋值给state，\n",
    "                         #之后会调用add方法把state+1，再把加一后的值赋值给state\n",
    "        print(sess.run(state))"
   ]
  },
  {
   "cell_type": "code",
   "execution_count": null,
   "metadata": {},
   "outputs": [],
   "source": []
  }
 ],
 "metadata": {
  "kernelspec": {
   "display_name": "Python 3",
   "language": "python",
   "name": "python3"
  },
  "language_info": {
   "codemirror_mode": {
    "name": "ipython",
    "version": 3
   },
   "file_extension": ".py",
   "mimetype": "text/x-python",
   "name": "python",
   "nbconvert_exporter": "python",
   "pygments_lexer": "ipython3",
   "version": "3.6.4"
  }
 },
 "nbformat": 4,
 "nbformat_minor": 2
}
