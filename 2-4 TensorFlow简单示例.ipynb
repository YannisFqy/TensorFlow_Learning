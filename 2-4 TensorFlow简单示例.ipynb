{
 "cells": [
  {
   "cell_type": "code",
   "execution_count": 2,
   "metadata": {},
   "outputs": [],
   "source": [
    "import tensorflow as tf\n",
    "import numpy as np"
   ]
  },
  {
   "cell_type": "code",
   "execution_count": 4,
   "metadata": {},
   "outputs": [
    {
     "name": "stdout",
     "output_type": "stream",
     "text": [
      "0 [0.059638824, 0.1021048]\n",
      "20 [0.10783334, 0.1953917]\n",
      "40 [0.10479397, 0.19717976]\n",
      "60 [0.10293388, 0.19827403]\n",
      "80 [0.10179553, 0.19894372]\n",
      "100 [0.10109886, 0.19935355]\n",
      "120 [0.10067251, 0.19960436]\n",
      "140 [0.10041159, 0.19975787]\n",
      "160 [0.1002519, 0.19985181]\n",
      "180 [0.10015418, 0.1999093]\n",
      "200 [0.100094356, 0.1999445]\n"
     ]
    }
   ],
   "source": [
    "#使用numpy生成100个随机点\n",
    "x_data = np.random.rand(100) #返回一个或一组服从“0~1”均匀分布的随机样本值,随机样本取值范围是[0,1).\n",
    "#np.random.rand()函数和np.random.randn()函数 https://blog.csdn.net/qq_40130759/article/details/79535575\n",
    "y_data = x_data * 0.1 + 0.2\n",
    "\n",
    "#构建一个线性模型\n",
    "b = tf.Variable(0.)\n",
    "k = tf.Variable(0.)\n",
    "y = k * x_data + b\n",
    "\n",
    "#二次代价函数\n",
    "loss = tf.reduce_mean(tf.square(y_data - y))  #reduce_mean代表求平均值\n",
    "#定义一个梯度下降法进行训练的优化器\n",
    "optimizer = tf.train.GradientDescentOptimizer(0.2) #学习率0.2\n",
    "#最小化代价函数\n",
    "train = optimizer.minimize(loss)\n",
    "\n",
    "init = tf.global_variables_initializer()\n",
    "\n",
    "with tf.Session() as sess:\n",
    "    sess.run(init)\n",
    "    for step in range(201):\n",
    "        sess.run(train)   #run(train)时会最小化loss，y_data和x_data都是确定的值,主要影响的就是k和b这两个变量\n",
    "                          #利用梯度下降法来改变b和k这两个变量的值来使loss越来越小，loss越小k和b越接近0.1和0.2\n",
    "        if step % 20 == 0:\n",
    "            print(step,sess.run([k,b]))\n"
   ]
  }
 ],
 "metadata": {
  "kernelspec": {
   "display_name": "Python 3",
   "language": "python",
   "name": "python3"
  },
  "language_info": {
   "codemirror_mode": {
    "name": "ipython",
    "version": 3
   },
   "file_extension": ".py",
   "mimetype": "text/x-python",
   "name": "python",
   "nbconvert_exporter": "python",
   "pygments_lexer": "ipython3",
   "version": "3.6.4"
  }
 },
 "nbformat": 4,
 "nbformat_minor": 2
}
