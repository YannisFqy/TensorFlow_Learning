{
 "cells": [
  {
   "cell_type": "code",
   "execution_count": 1,
   "metadata": {},
   "outputs": [
    {
     "name": "stderr",
     "output_type": "stream",
     "text": [
      "C:\\Programmingtools\\Anaconda3\\lib\\site-packages\\h5py\\__init__.py:36: FutureWarning: Conversion of the second argument of issubdtype from `float` to `np.floating` is deprecated. In future, it will be treated as `np.float64 == np.dtype(float).type`.\n",
      "  from ._conv import register_converters as _register_converters\n"
     ]
    }
   ],
   "source": [
    "import tensorflow as tf\n",
    "from tensorflow.examples.tutorials.mnist import input_data"
   ]
  },
  {
   "cell_type": "code",
   "execution_count": 2,
   "metadata": {},
   "outputs": [
    {
     "name": "stdout",
     "output_type": "stream",
     "text": [
      "WARNING:tensorflow:From <ipython-input-2-0d6fd2a75932>:7: read_data_sets (from tensorflow.contrib.learn.python.learn.datasets.mnist) is deprecated and will be removed in a future version.\n",
      "Instructions for updating:\n",
      "Please use alternatives such as official/mnist/dataset.py from tensorflow/models.\n",
      "WARNING:tensorflow:From C:\\Programmingtools\\Anaconda3\\lib\\site-packages\\tensorflow\\contrib\\learn\\python\\learn\\datasets\\mnist.py:260: maybe_download (from tensorflow.contrib.learn.python.learn.datasets.base) is deprecated and will be removed in a future version.\n",
      "Instructions for updating:\n",
      "Please write your own downloading logic.\n",
      "WARNING:tensorflow:From C:\\Programmingtools\\Anaconda3\\lib\\site-packages\\tensorflow\\contrib\\learn\\python\\learn\\datasets\\mnist.py:262: extract_images (from tensorflow.contrib.learn.python.learn.datasets.mnist) is deprecated and will be removed in a future version.\n",
      "Instructions for updating:\n",
      "Please use tf.data to implement this functionality.\n",
      "Extracting MNIST_data\\train-images-idx3-ubyte.gz\n",
      "WARNING:tensorflow:From C:\\Programmingtools\\Anaconda3\\lib\\site-packages\\tensorflow\\contrib\\learn\\python\\learn\\datasets\\mnist.py:267: extract_labels (from tensorflow.contrib.learn.python.learn.datasets.mnist) is deprecated and will be removed in a future version.\n",
      "Instructions for updating:\n",
      "Please use tf.data to implement this functionality.\n",
      "Extracting MNIST_data\\train-labels-idx1-ubyte.gz\n",
      "WARNING:tensorflow:From C:\\Programmingtools\\Anaconda3\\lib\\site-packages\\tensorflow\\contrib\\learn\\python\\learn\\datasets\\mnist.py:110: dense_to_one_hot (from tensorflow.contrib.learn.python.learn.datasets.mnist) is deprecated and will be removed in a future version.\n",
      "Instructions for updating:\n",
      "Please use tf.one_hot on tensors.\n",
      "Extracting MNIST_data\\t10k-images-idx3-ubyte.gz\n",
      "Extracting MNIST_data\\t10k-labels-idx1-ubyte.gz\n",
      "WARNING:tensorflow:From C:\\Programmingtools\\Anaconda3\\lib\\site-packages\\tensorflow\\contrib\\learn\\python\\learn\\datasets\\mnist.py:290: DataSet.__init__ (from tensorflow.contrib.learn.python.learn.datasets.mnist) is deprecated and will be removed in a future version.\n",
      "Instructions for updating:\n",
      "Please use alternatives such as official/mnist/dataset.py from tensorflow/models.\n",
      "Iter0Testing Accuracy0.9084\n",
      "Iter1Testing Accuracy0.9169\n",
      "Iter2Testing Accuracy0.9173\n",
      "Iter3Testing Accuracy0.9173\n",
      "Iter4Testing Accuracy0.9213\n",
      "Iter5Testing Accuracy0.9202\n",
      "Iter6Testing Accuracy0.9215\n",
      "Iter7Testing Accuracy0.9243\n",
      "Iter8Testing Accuracy0.9218\n",
      "Iter9Testing Accuracy0.9215\n"
     ]
    }
   ],
   "source": [
    "#生成graph图后打开命令行，首先移动到logs文件夹所在的硬盘，之后执行命令\n",
    "#tensorboard --logdir=C:\\Users\\Yannis\\TensorFlow\\logs(logs的绝对路径)，\n",
    "#用浏览器访问复制生成的网址(进来用google浏览器)\n",
    "\n",
    "\n",
    "# 载入数据集\n",
    "mnist = input_data.read_data_sets(\"MNIST_data\",one_hot=True) #把MNIST_data存在文件当前目录下，否者写明绝对路径\n",
    "\n",
    "#每个批次的大小，训练模型时以批次为单位放入图片\n",
    "batch_size = 100 #每次训练放入100张图片\n",
    "#计算一共多少批次\n",
    "n_batch = mnist.train.num_examples // batch_size  # // 代表整除\n",
    "\n",
    "#参数概要\n",
    "def variable_summaries(var):\n",
    "    with tf.name_scope('summaries'):\n",
    "        mean = tf.reduce_mean(var)\n",
    "        tf.summary.scalar('mean', mean) #平均值   scalar方法可以记录一个值，并赋予这个值一个名字\n",
    "        with tf.name_scope('stddev'):\n",
    "            stddev = tf.sqrt(tf.reduce_mean(tf.square(var - mean)))\n",
    "        tf.summary.scalar('stddev', stddev) #标准差\n",
    "        tf.summary.scalar('max', tf.reduce_max(var)) #最大值\n",
    "        tf.summary.scalar('min', tf.reduce_min(var)) #最小值\n",
    "        tf.summary.histogram('histogram', var) #直方图\n",
    "#命名空间\n",
    "with tf.name_scope('input'):     #命名为input\n",
    "    #定义两个placeholder\n",
    "    x = tf.placeholder(tf.float32,[None,784],name='x-input') \n",
    "    y = tf.placeholder(tf.float32,[None,10],name='y-input') \n",
    "\n",
    "#因为我们加了layer这个命名空间重新执行后生成的graph是在我们第一回生成的graph基础上生成的，\n",
    "#导致会产生两个input命名，所以需要我们通过Kernel的Restart & Run All来重新执行生成我们需要的graph\n",
    "with tf.name_scope('layer'):\n",
    "    #创建一个简单的神经网络,只有输入层和输出层\n",
    "    with tf.name_scope('weights'):\n",
    "        W = tf.Variable(tf.zeros([784,10]),name='W') #每张图片有784个像素点，输入到神经网络中是一张一张输入的\n",
    "        variable_summaries(W)\n",
    "    with tf.name_scope('biases'):\n",
    "        b = tf.Variable(tf.zeros([10]),name='b')\n",
    "        variable_summaries(b)\n",
    "    with tf.name_scope('Wx_plus_b_L'):\n",
    "        Wx_plus_b_L = tf.matmul(x,W) + b\n",
    "    with tf.name_scope('softmax'):\n",
    "        prediction = tf.nn.softmax(Wx_plus_b_L)\n",
    "\n",
    "#交叉熵代价函数\n",
    "with tf.name_scope('loss'):\n",
    "    loss = tf.reduce_mean(tf.nn.softmax_cross_entropy_with_logits_v2(labels=y,logits=Wx_plus_b_L))\n",
    "    tf.summary.scalar('loss', loss)\n",
    "with tf.name_scope('train'):  \n",
    "    #使用梯度下降\n",
    "    train_step = tf.train.GradientDescentOptimizer(0.2).minimize(loss)\n",
    "\n",
    "#初始化变量\n",
    "#不用起名字，有一个默认的名字init\n",
    "init = tf.global_variables_initializer()\n",
    "\n",
    "with tf.name_scope('accuracy'):\n",
    "    with tf.name_scope('correct_prediction'):\n",
    "        #结果存放在一个布尔型列表中\n",
    "        correct_prediction = tf.equal(tf.argmax(y,1),tf.argmax(prediction,1)) #比较两个参数是否相等，返回boolean型，argmax可以返回最大的数值在第几个位置，1表示按行查找\n",
    "    #argmax返回一维张量中最大的值所在的位置 https://blog.csdn.net/u013580539/article/details/79339250\n",
    "    with tf.name_scope('accuracy'):    \n",
    "        #求准确率\n",
    "        accuracy = tf.reduce_mean(tf.cast(correct_prediction,tf.float32)) #把boolean型转换成float型，并求平均值\n",
    "        tf.summary.scalar('accuracy', accuracy)\n",
    "                             \n",
    "#合并所有的summary\n",
    "merged = tf.summary.merge_all()\n",
    "\n",
    "with tf.Session() as sess:\n",
    "    sess.run(init)\n",
    "    writer = tf.summary.FileWriter('logs/',sess.graph)   #将graph图写入当前目录下的logs文件夹(没有便自动创建)里\n",
    "    for epoch in range(10):   #把所有的图片训练21次\n",
    "         for batch in range(n_batch):\n",
    "                batch_xs, batch_ys = mnist.train.next_batch(batch_size) #图片的数据保存在batch_xs, 图片的标签保存在batch_ys，自动获取下一批次\n",
    "                summary, _ = sess.run([merged,train_step],feed_dict={x:batch_xs,y:batch_ys}) #一边训练,一边统计\n",
    "         \n",
    "         writer.add_summary(summary,epoch) #每次epoch，记一次                  \n",
    "         acc = sess.run(accuracy,feed_dict={x:mnist.test.images,y:mnist.test.labels})\n",
    "         print(\"Iter\" + str(epoch) + \"Testing Accuracy\" + str(acc))"
   ]
  },
  {
   "cell_type": "code",
   "execution_count": 3,
   "metadata": {},
   "outputs": [],
   "source": [
    "# #另一种方法\n",
    "# for i in range(200):\n",
    "#     #每个批次100个样本\n",
    "#     batch_xs, batch_ys = mnist.train.next_batch(100)\n",
    "#     summary,_ = sess.run([merged,train_step],feed_dict={x:batch_xs,y:batch_ys})\n",
    "#     writer.add_summary(summary,i)\n",
    "#     if i % 500 == 0:\n",
    "#         print(sess.run(accuracy,feed_dict={x:mnist.test.images,y:mnist.test.labels}))"
   ]
  }
 ],
 "metadata": {
  "kernelspec": {
   "display_name": "Python 3",
   "language": "python",
   "name": "python3"
  },
  "language_info": {
   "codemirror_mode": {
    "name": "ipython",
    "version": 3
   },
   "file_extension": ".py",
   "mimetype": "text/x-python",
   "name": "python",
   "nbconvert_exporter": "python",
   "pygments_lexer": "ipython3",
   "version": "3.6.4"
  }
 },
 "nbformat": 4,
 "nbformat_minor": 2
}
